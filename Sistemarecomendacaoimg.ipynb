{
  "nbformat": 4,
  "nbformat_minor": 0,
  "metadata": {
    "colab": {
      "provenance": [],
      "authorship_tag": "ABX9TyPJDAbknPpdu/LPj88GS3Hg",
      "include_colab_link": true
    },
    "kernelspec": {
      "name": "python3",
      "display_name": "Python 3"
    },
    "language_info": {
      "name": "python"
    }
  },
  "cells": [
    {
      "cell_type": "markdown",
      "metadata": {
        "id": "view-in-github",
        "colab_type": "text"
      },
      "source": [
        "<a href=\"https://colab.research.google.com/github/Juniorexz/Machine-Learning/blob/main/Sistemarecomendacaoimg.ipynb\" target=\"_parent\"><img src=\"https://colab.research.google.com/assets/colab-badge.svg\" alt=\"Open In Colab\"/></a>"
      ]
    },
    {
      "cell_type": "code",
      "execution_count": 16,
      "metadata": {
        "id": "tpz9I7TFNRyA"
      },
      "outputs": [],
      "source": [
        "import numpy as np\n",
        "import matplotlib.pyplot as plt\n",
        "from tensorflow.keras.preprocessing.image import load_img, img_to_array\n",
        "from sklearn.metrics.pairwise import cosine_similarity\n",
        "from sklearn.feature_extraction.image import grid_to_graph"
      ]
    },
    {
      "cell_type": "code",
      "source": [
        "# Carregar imagens\n",
        "img1 = load_img('ng.jpg', target_size=(224, 224))\n",
        "img2 = load_img('Belasmaldicoes.jpg', target_size=(224, 224))\n",
        "img3 = load_img('alexa.jpg', target_size=(224, 224))\n",
        "img4 = load_img('anansi.jpg', target_size=(224, 224))\n",
        "\n",
        "\n",
        "# Converter imagens para arrays\n",
        "img1_array = img_to_array(img1)\n",
        "img2_array = img_to_array(img2)\n",
        "img3_array = img_to_array(img3)\n",
        "img4_array = img_to_array(img4)\n"
      ],
      "metadata": {
        "id": "oZZaQn-PNmk5"
      },
      "execution_count": 18,
      "outputs": []
    },
    {
      "cell_type": "code",
      "source": [
        "# Extrair características usando VGG16\n",
        "from tensorflow.keras.applications import VGG16\n",
        "model = VGG16(weights='imagenet', include_top=False, input_shape=(224, 224, 3))\n",
        "\n",
        "features_img1 = model.predict(img1_array.reshape((1, 224, 224, 3)))\n",
        "features_img2 = model.predict(img2_array.reshape((1, 224, 224, 3)))\n",
        "features_img3 = model.predict(img3_array.reshape((1, 224, 224, 3)))\n",
        "features_img4 = model.predict(img3_array.reshape((1, 224, 224, 3)))\n",
        "\n",
        "\n"
      ],
      "metadata": {
        "colab": {
          "base_uri": "https://localhost:8080/"
        },
        "id": "89q5jgPaNmiK",
        "outputId": "b38f0466-d26d-429f-edd9-965cec3aedbc"
      },
      "execution_count": 20,
      "outputs": [
        {
          "output_type": "stream",
          "name": "stdout",
          "text": [
            "\u001b[1m1/1\u001b[0m \u001b[32m━━━━━━━━━━━━━━━━━━━━\u001b[0m\u001b[37m\u001b[0m \u001b[1m1s\u001b[0m 1s/step\n",
            "\u001b[1m1/1\u001b[0m \u001b[32m━━━━━━━━━━━━━━━━━━━━\u001b[0m\u001b[37m\u001b[0m \u001b[1m1s\u001b[0m 561ms/step\n",
            "\u001b[1m1/1\u001b[0m \u001b[32m━━━━━━━━━━━━━━━━━━━━\u001b[0m\u001b[37m\u001b[0m \u001b[1m1s\u001b[0m 560ms/step\n",
            "\u001b[1m1/1\u001b[0m \u001b[32m━━━━━━━━━━━━━━━━━━━━\u001b[0m\u001b[37m\u001b[0m \u001b[1m1s\u001b[0m 541ms/step\n"
          ]
        }
      ]
    },
    {
      "cell_type": "code",
      "source": [
        "# Calcular similaridade usando cosine similarity\n",
        "similarity_img1_img2 = cosine_similarity(features_img1.reshape((1, -1)), features_img2.reshape((1, -1)))\n",
        "similarity_img1_img3 = cosine_similarity(features_img1.reshape((1, -1)), features_img3.reshape((1, -1)))\n",
        "similarity_img2_img3 = cosine_similarity(features_img2.reshape((1, -1)),features_img3.reshape((1, -1)))\n",
        "similarity_img1_img4 = cosine_similarity(features_img4.reshape((1, -1)),features_img3.reshape((1, -1)))\n"
      ],
      "metadata": {
        "id": "bHuHY-4ENmfc"
      },
      "execution_count": 21,
      "outputs": []
    },
    {
      "cell_type": "code",
      "source": [
        "# Exibir resultados\n",
        "print(f'Similaridade entre imagem 1 e imagem 2: {similarity_img1_img2[0][0]}')\n",
        "print(f'Similaridade entre imagem 1 e imagem 3: {similarity_img1_img3[0][0]}')\n",
        "print(f'Similaridade entre imagem 2 e imagem 3: {similarity_img2_img3[0][0]}')\n",
        "print(f'Similaridade entre imagem 2 e imagem 4: {similarity_img1_img4[0][0]}')"
      ],
      "metadata": {
        "colab": {
          "base_uri": "https://localhost:8080/"
        },
        "id": "i7zdK9rLNmce",
        "outputId": "d512d3b8-91e8-4067-ea56-9c241e2cb49f"
      },
      "execution_count": 24,
      "outputs": [
        {
          "output_type": "stream",
          "name": "stdout",
          "text": [
            "Similaridade entre imagem 1 e imagem 2: 0.19707557559013367\n",
            "Similaridade entre imagem 1 e imagem 3: 0.16568216681480408\n",
            "Similaridade entre imagem 2 e imagem 3: 0.1084936261177063\n",
            "Similaridade entre imagem 2 e imagem 4: 0.9999998807907104\n"
          ]
        }
      ]
    },
    {
      "cell_type": "code",
      "source": [],
      "metadata": {
        "id": "SS5Vf9nXNmNQ"
      },
      "execution_count": null,
      "outputs": []
    }
  ]
}